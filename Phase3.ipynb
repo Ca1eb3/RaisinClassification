{
 "cells": [
  {
   "cell_type": "code",
   "execution_count": 128,
   "metadata": {},
   "outputs": [],
   "source": [
    "###\n",
    "# This code file contains an import of all of the libraries we expect to use in the final project at the top. \n",
    "# Unused imports will be removed in the phase 4 submission. \n",
    "# Then the dataset is loaded in as a CSV file downloaded from the same directory.\n",
    "# We summarize the dataset and replace the Class names with 0 and 1 before starting the cleaning process we check for missing values.\n",
    "# This particular dataset had no missing values so the only step of the cleaning process that changes the dataset is removal of outliers.\n",
    "# We include data visualizations before and after removing the outliers based off a z score of 3.\n",
    "###\n",
    "\n",
    "\n",
    "# Load libraries\n",
    "# remove unused imports in final project if code is turned in\n",
    "from pandas import read_csv\n",
    "from sklearn.ensemble import RandomForestClassifier\n",
    "from pandas.plotting import scatter_matrix\n",
    "from matplotlib import pyplot as plt\n",
    "import pandas as pd\n",
    "import numpy as np\n",
    "from sklearn.model_selection import train_test_split\n",
    "from sklearn.model_selection import cross_val_score\n",
    "from sklearn.model_selection import StratifiedKFold\n",
    "from sklearn.metrics import classification_report\n",
    "from sklearn.metrics import confusion_matrix\n",
    "from sklearn.metrics import accuracy_score\n",
    "from sklearn.linear_model import LogisticRegression\n",
    "from sklearn.linear_model import LinearRegression\n",
    "from sklearn.tree import DecisionTreeClassifier\n",
    "from sklearn.neighbors import KNeighborsClassifier\n",
    "from sklearn.discriminant_analysis import LinearDiscriminantAnalysis\n",
    "from sklearn.naive_bayes import GaussianNB\n",
    "from sklearn.svm import SVC\n",
    "import sklearn as sk\n",
    "from sklearn.decomposition import PCA\n",
    "from sklearn.pipeline import Pipeline\n",
    "from sklearn.preprocessing import PolynomialFeatures\n",
    "from scipy import stats\n",
    "import sklearn.metrics as met\n",
    "from sklearn.discriminant_analysis import StandardScaler\n",
    "from sklearn.pipeline import make_pipeline"
   ]
  },
  {
   "cell_type": "code",
   "execution_count": 129,
   "metadata": {},
   "outputs": [
    {
     "name": "stdout",
     "output_type": "stream",
     "text": [
      "                area       major       minor         ecc         convex  \\\n",
      "count     900.000000  900.000000  900.000000  900.000000     900.000000   \n",
      "mean    87804.127778  430.929950  254.488133    0.781542   91186.090000   \n",
      "std     39002.111390  116.035121   49.988902    0.090318   40769.290132   \n",
      "min     25387.000000  225.629541  143.710872    0.348730   26139.000000   \n",
      "25%     59348.000000  345.442898  219.111126    0.741766   61513.250000   \n",
      "50%     78902.000000  407.803951  247.848409    0.798846   81651.000000   \n",
      "75%    105028.250000  494.187014  279.888575    0.842571  108375.750000   \n",
      "max    235047.000000  997.291941  492.275279    0.962124  278217.000000   \n",
      "\n",
      "           extent    perimeter       class  \n",
      "count  900.000000   900.000000  900.000000  \n",
      "mean     0.699508  1165.906636    0.500000  \n",
      "std      0.053468   273.764315    0.500278  \n",
      "min      0.379856   619.074000    0.000000  \n",
      "25%      0.670869   966.410750    0.000000  \n",
      "50%      0.707367  1119.509000    0.500000  \n",
      "75%      0.734991  1308.389750    1.000000  \n",
      "max      0.835455  2697.753000    1.000000  \n"
     ]
    }
   ],
   "source": [
    "# ----BEFORE CLEANING----\n",
    "names = ['area', 'major', 'minor', 'ecc', 'convex', 'extent', 'perimeter', 'class']\n",
    "dataset = read_csv('Raisin_Dataset_CSV.csv', header=0, names=names)\n",
    "# summarize the dataset\n",
    "print(dataset.describe())"
   ]
  },
  {
   "cell_type": "code",
   "execution_count": 130,
   "metadata": {},
   "outputs": [
    {
     "name": "stdout",
     "output_type": "stream",
     "text": [
      "       area       major       minor       ecc  convex    extent  perimeter  \\\n",
      "270   54968  300.954432  234.389570  0.627246   56851  0.751340    893.644   \n",
      "818   95364  481.564373  253.846781  0.849785   97623  0.737952   1225.352   \n",
      "277   64875  393.214664  212.954824  0.840653   67701  0.770524   1014.789   \n",
      "26    73167  340.055218  276.015177  0.584106   74545  0.778737   1010.474   \n",
      "856  159064  570.216905  368.220685  0.763544  165584  0.781964   1563.830   \n",
      "361   49039  285.402087  220.819901  0.633534   50879  0.714771    841.666   \n",
      "453   96582  446.705203  278.325498  0.782172  100113  0.706598   1216.979   \n",
      "459   83107  507.380899  233.153850  0.888165   93706  0.491002   1367.331   \n",
      "184   81546  381.348654  273.810099  0.696038   82807  0.711720   1057.448   \n",
      "503  141220  575.682365  316.621243  0.835169  144300  0.659152   1507.939   \n",
      "356   58460  290.753556  258.384354  0.458545   60254  0.774756    908.357   \n",
      "38    77468  405.936594  245.989798  0.795479   79220  0.721545   1100.676   \n",
      "538  145693  591.180144  321.431191  0.839272  151644  0.648528   1595.364   \n",
      "297   54983  292.898907  248.408020  0.529834   58095  0.725274    921.613   \n",
      "897   99657  431.706981  298.837323  0.721684  106264  0.741099   1292.828   \n",
      "328   57310  351.396481  209.881228  0.802035   59225  0.699833    940.413   \n",
      "233   34559  264.515168  168.983057  0.769339   36516  0.664187    750.365   \n",
      "223   93559  438.634353  275.582973  0.777991   95750  0.687070   1198.259   \n",
      "65    59370  345.949205  221.921957  0.767134   61464  0.697486    981.517   \n",
      "646   86846  459.396038  242.619965  0.849165   89047  0.725931   1173.308   \n",
      "\n",
      "     class  \n",
      "270      0  \n",
      "818      1  \n",
      "277      0  \n",
      "26       0  \n",
      "856      1  \n",
      "361      0  \n",
      "453      1  \n",
      "459      1  \n",
      "184      0  \n",
      "503      1  \n",
      "356      0  \n",
      "38       0  \n",
      "538      1  \n",
      "297      0  \n",
      "897      1  \n",
      "328      0  \n",
      "233      0  \n",
      "223      0  \n",
      "65       0  \n",
      "646      1  \n"
     ]
    }
   ],
   "source": [
    "# replace class names with 0 or 1 values for classification\n",
    "dataset = dataset.replace('Kecimen', 0)\n",
    "dataset = dataset.replace('Besni', 1)\n",
    "print(dataset.sample(20))"
   ]
  },
  {
   "cell_type": "code",
   "execution_count": 131,
   "metadata": {},
   "outputs": [
    {
     "name": "stdout",
     "output_type": "stream",
     "text": [
      "area         0\n",
      "major        0\n",
      "minor        0\n",
      "ecc          0\n",
      "convex       0\n",
      "extent       0\n",
      "perimeter    0\n",
      "class        0\n",
      "dtype: int64\n"
     ]
    }
   ],
   "source": [
    "# count the missing values\n",
    "print(dataset.isnull().sum())"
   ]
  },
  {
   "cell_type": "code",
   "execution_count": 132,
   "metadata": {},
   "outputs": [
    {
     "name": "stdout",
     "output_type": "stream",
     "text": [
      "area         0\n",
      "major        0\n",
      "minor        0\n",
      "ecc          0\n",
      "convex       0\n",
      "extent       0\n",
      "perimeter    0\n",
      "class        0\n",
      "dtype: int64\n"
     ]
    }
   ],
   "source": [
    "# locate the column with the 99999 values\n",
    "num_missing = (dataset == 99999).sum()\n",
    "print(num_missing)\n",
    "# find and print the indices\n",
    "for col in dataset:\n",
    "    if num_missing[col] != 0:\n",
    "        indices = dataset[dataset[col] == 99999].index\n",
    "        print(col + \":\" + str(list(indices)))"
   ]
  },
  {
   "cell_type": "code",
   "execution_count": 133,
   "metadata": {},
   "outputs": [
    {
     "name": "stdout",
     "output_type": "stream",
     "text": [
      "area           0\n",
      "major          0\n",
      "minor          0\n",
      "ecc            0\n",
      "convex         0\n",
      "extent         0\n",
      "perimeter      0\n",
      "class        450\n",
      "dtype: int64\n",
      "class:[0, 1, 2, 3, 4, 5, 6, 7, 8, 9, 10, 11, 12, 13, 14, 15, 16, 17, 18, 19, 20, 21, 22, 23, 24, 25, 26, 27, 28, 29, 30, 31, 32, 33, 34, 35, 36, 37, 38, 39, 40, 41, 42, 43, 44, 45, 46, 47, 48, 49, 50, 51, 52, 53, 54, 55, 56, 57, 58, 59, 60, 61, 62, 63, 64, 65, 66, 67, 68, 69, 70, 71, 72, 73, 74, 75, 76, 77, 78, 79, 80, 81, 82, 83, 84, 85, 86, 87, 88, 89, 90, 91, 92, 93, 94, 95, 96, 97, 98, 99, 100, 101, 102, 103, 104, 105, 106, 107, 108, 109, 110, 111, 112, 113, 114, 115, 116, 117, 118, 119, 120, 121, 122, 123, 124, 125, 126, 127, 128, 129, 130, 131, 132, 133, 134, 135, 136, 137, 138, 139, 140, 141, 142, 143, 144, 145, 146, 147, 148, 149, 150, 151, 152, 153, 154, 155, 156, 157, 158, 159, 160, 161, 162, 163, 164, 165, 166, 167, 168, 169, 170, 171, 172, 173, 174, 175, 176, 177, 178, 179, 180, 181, 182, 183, 184, 185, 186, 187, 188, 189, 190, 191, 192, 193, 194, 195, 196, 197, 198, 199, 200, 201, 202, 203, 204, 205, 206, 207, 208, 209, 210, 211, 212, 213, 214, 215, 216, 217, 218, 219, 220, 221, 222, 223, 224, 225, 226, 227, 228, 229, 230, 231, 232, 233, 234, 235, 236, 237, 238, 239, 240, 241, 242, 243, 244, 245, 246, 247, 248, 249, 250, 251, 252, 253, 254, 255, 256, 257, 258, 259, 260, 261, 262, 263, 264, 265, 266, 267, 268, 269, 270, 271, 272, 273, 274, 275, 276, 277, 278, 279, 280, 281, 282, 283, 284, 285, 286, 287, 288, 289, 290, 291, 292, 293, 294, 295, 296, 297, 298, 299, 300, 301, 302, 303, 304, 305, 306, 307, 308, 309, 310, 311, 312, 313, 314, 315, 316, 317, 318, 319, 320, 321, 322, 323, 324, 325, 326, 327, 328, 329, 330, 331, 332, 333, 334, 335, 336, 337, 338, 339, 340, 341, 342, 343, 344, 345, 346, 347, 348, 349, 350, 351, 352, 353, 354, 355, 356, 357, 358, 359, 360, 361, 362, 363, 364, 365, 366, 367, 368, 369, 370, 371, 372, 373, 374, 375, 376, 377, 378, 379, 380, 381, 382, 383, 384, 385, 386, 387, 388, 389, 390, 391, 392, 393, 394, 395, 396, 397, 398, 399, 400, 401, 402, 403, 404, 405, 406, 407, 408, 409, 410, 411, 412, 413, 414, 415, 416, 417, 418, 419, 420, 421, 422, 423, 424, 425, 426, 427, 428, 429, 430, 431, 432, 433, 434, 435, 436, 437, 438, 439, 440, 441, 442, 443, 444, 445, 446, 447, 448, 449]\n"
     ]
    }
   ],
   "source": [
    "# locate the column with the 0 values\n",
    "num_missing = (dataset == 0).sum()\n",
    "print(num_missing)\n",
    "# find and print the indices\n",
    "# we can ignore the 0 values in class because 0 is a valid value\n",
    "for col in dataset:\n",
    "    if num_missing[col] != 0:\n",
    "        indices = dataset[dataset[col] == 0].index\n",
    "        print(col + \":\" + str(list(indices)))"
   ]
  },
  {
   "cell_type": "code",
   "execution_count": 134,
   "metadata": {},
   "outputs": [
    {
     "name": "stdout",
     "output_type": "stream",
     "text": [
      "[487, 507, 552, 580, 581, 668, 708, 804, 812, 866, 880, 85, 487, 506, 694, 836, 490, 552, 581, 616, 769, 804, 880, 13, 23, 34, 43, 106, 156, 192, 197, 235, 251, 253, 316, 356, 483, 880, 85, 487, 506, 694, 708, 804, 812, 836, 866, 880, 85, 290, 459, 487, 498, 506, 536, 579, 682, 694, 802, 829, 836, 85, 290, 487, 506, 694, 836]\n",
      "                area       major       minor         ecc         convex  \\\n",
      "count     860.000000  860.000000  860.000000  860.000000     860.000000   \n",
      "mean    85689.111628  425.399183  251.839739    0.785030   88762.722093   \n",
      "std     35714.789417  105.363100   46.579123    0.079252   36697.834521   \n",
      "min     25387.000000  225.629541  143.710872    0.517135   26139.000000   \n",
      "25%     59230.500000  345.829099  218.450742    0.744472   61489.250000   \n",
      "50%     78122.500000  405.796609  246.643156    0.798846   80835.500000   \n",
      "75%    103121.000000  486.582391  277.440665    0.840973  107340.500000   \n",
      "max    204226.000000  769.425149  403.719328    0.928094  209580.000000   \n",
      "\n",
      "           extent    perimeter       class  \n",
      "count  860.000000   860.000000  860.000000  \n",
      "mean     0.701263  1150.554856    0.494186  \n",
      "std      0.046813   245.921977    0.500257  \n",
      "min      0.547433   619.074000    0.000000  \n",
      "25%      0.671999   966.013750    0.000000  \n",
      "50%      0.706631  1113.375500    0.000000  \n",
      "75%      0.733665  1295.296750    1.000000  \n",
      "max      0.835455  1893.414000    1.000000  \n"
     ]
    }
   ],
   "source": [
    "# ----Clean the Data----\n",
    "threshold_z = 3\n",
    "outlier_indices = []\n",
    "for col in dataset:\n",
    "    if col != \"class\":\n",
    "        z = np.abs(stats.zscore(dataset[col]))\n",
    "        outlier_indices_col = np.where(z > threshold_z)[0]\n",
    "        outlier_indices.extend(outlier_indices_col)\n",
    "print(outlier_indices)\n",
    "dataset = dataset.drop(outlier_indices)\n",
    "print(dataset.describe())"
   ]
  },
  {
   "cell_type": "code",
   "execution_count": 135,
   "metadata": {},
   "outputs": [
    {
     "name": "stdout",
     "output_type": "stream",
     "text": [
      "             area       major       minor         ecc      convex      extent  \\\n",
      "count  860.000000  860.000000  860.000000  860.000000  860.000000  860.000000   \n",
      "mean     0.337187    0.367362    0.415867    0.651878    0.341383    0.534093   \n",
      "std      0.199704    0.193755    0.179145    0.192848    0.200053    0.162531   \n",
      "min      0.000000    0.000000    0.000000    0.000000    0.000000    0.000000   \n",
      "25%      0.189240    0.221038    0.287452    0.553187    0.192706    0.432490   \n",
      "50%      0.294877    0.331314    0.395881    0.685497    0.298169    0.552730   \n",
      "75%      0.434659    0.479873    0.514329    0.788006    0.442657    0.646589   \n",
      "max      1.000000    1.000000    1.000000    1.000000    1.000000    1.000000   \n",
      "\n",
      "        perimeter       class  \n",
      "count  860.000000  860.000000  \n",
      "mean     0.417064    0.494186  \n",
      "std      0.192980    0.500257  \n",
      "min      0.000000    0.000000  \n",
      "25%      0.272251    0.000000  \n",
      "50%      0.387888    0.000000  \n",
      "75%      0.530645    1.000000  \n",
      "max      1.000000    1.000000  \n"
     ]
    }
   ],
   "source": [
    "# ---- PHASE 3 ----\n",
    "\n",
    "# Normalize the data using min max normalization\n",
    "dataset = dataset\n",
    "for col in dataset:\n",
    "    if col != 'class':\n",
    "        dataset[[col]] = (dataset[[col]] - dataset [[col]].min()) / (dataset[[col]].max() - dataset[[col]].min())\n",
    "print(dataset.describe())"
   ]
  },
  {
   "cell_type": "code",
   "execution_count": 136,
   "metadata": {},
   "outputs": [
    {
     "data": {
      "image/png": "[encoded data removed]",
      "text/plain": [
       "<Figure size 640x480 with 2 Axes>"
      ]
     },
     "metadata": {},
     "output_type": "display_data"
    }
   ],
   "source": [
    "# Analyze the Correlation Matrix post normalization\n",
    "correlations = dataset.corr()\n",
    "fig = plt.figure()\n",
    "ax = fig.add_subplot(111)\n",
    "cax = ax.matshow(correlations, vmin=-1, vmax=1)\n",
    "fig.colorbar(cax)\n",
    "ticks = np.arange(0,8,1)\n",
    "ax.set_xticks(ticks)\n",
    "ax.set_yticks(ticks)\n",
    "ax.set_xticklabels(names)\n",
    "ax.set_yticklabels(names)\n",
    "plt.show()"
   ]
  },
  {
   "cell_type": "code",
   "execution_count": 137,
   "metadata": {},
   "outputs": [
    {
     "name": "stdout",
     "output_type": "stream",
     "text": [
      "             area       major       minor         ecc      convex   perimeter  \\\n",
      "count  860.000000  860.000000  860.000000  860.000000  860.000000  860.000000   \n",
      "mean     0.337187    0.367362    0.415867    0.651878    0.341383    0.417064   \n",
      "std      0.199704    0.193755    0.179145    0.192848    0.200053    0.192980   \n",
      "min      0.000000    0.000000    0.000000    0.000000    0.000000    0.000000   \n",
      "25%      0.189240    0.221038    0.287452    0.553187    0.192706    0.272251   \n",
      "50%      0.294877    0.331314    0.395881    0.685497    0.298169    0.387888   \n",
      "75%      0.434659    0.479873    0.514329    0.788006    0.442657    0.530645   \n",
      "max      1.000000    1.000000    1.000000    1.000000    1.000000    1.000000   \n",
      "\n",
      "            class  \n",
      "count  860.000000  \n",
      "mean     0.494186  \n",
      "std      0.500257  \n",
      "min      0.000000  \n",
      "25%      0.000000  \n",
      "50%      0.000000  \n",
      "75%      1.000000  \n",
      "max      1.000000  \n"
     ]
    }
   ],
   "source": [
    "# Drop Features with low correlation\n",
    "# The lowest feature will be dropped.\n",
    "# We chose to drop extent (which had a correlation of -0.145).\n",
    "# We chose not to do PCA because we have a limited number of features and samples.\n",
    "dataset = dataset.drop(dataset.columns[[5]], axis=1)\n",
    "print(dataset.describe())\n"
   ]
  },
  {
   "cell_type": "code",
   "execution_count": 138,
   "metadata": {},
   "outputs": [
    {
     "name": "stdout",
     "output_type": "stream",
     "text": [
      "LR: 0.853240 (0.041603)\n",
      "LDA: 0.875021 (0.034945)\n",
      "KNN: 0.843052 (0.028703)\n",
      "CART: 0.792114 (0.043684)\n",
      "NB: 0.835784 (0.027367)\n",
      "SVM: 0.850320 (0.038807)\n",
      "RFC: 0.844544 (0.037577)\n"
     ]
    }
   ],
   "source": [
    "# Split the dataset\n",
    "array = dataset.values\n",
    "X = array[:,0:5]\n",
    "y = array[:,6]\n",
    "X_train, X_validation, Y_train, Y_validation = train_test_split(X, y, test_size=0.20, random_state=1)\n",
    "# Use and evaluate the ML models\n",
    "models = []\n",
    "models.append(('LR', LogisticRegression(solver='liblinear', multi_class='ovr')))\n",
    "models.append(('LDA', LinearDiscriminantAnalysis()))\n",
    "models.append(('KNN', KNeighborsClassifier()))\n",
    "models.append(('CART', DecisionTreeClassifier()))\n",
    "models.append(('NB', GaussianNB()))\n",
    "models.append(('SVM', SVC(gamma='auto')))\n",
    "models.append(('RFC', RandomForestClassifier(n_estimators=10, max_features=7, max_depth=2, random_state=1)))\n",
    "results = []\n",
    "names = []\n",
    "for name, model in models:\n",
    " kfold = StratifiedKFold(n_splits=10, random_state=1, shuffle=True)\n",
    " cv_results = cross_val_score(model, X_train, Y_train, cv=kfold, scoring='accuracy')\n",
    " results.append(cv_results)\n",
    " names.append(name)\n",
    " print('%s: %f (%f)' % (name, cv_results.mean(), cv_results.std()))\n",
    "\n"
   ]
  },
  {
   "cell_type": "code",
   "execution_count": 139,
   "metadata": {},
   "outputs": [
    {
     "data": {
      "image/png": "[encoded data removed]",
      "text/plain": [
       "<Figure size 750x750 with 1 Axes>"
      ]
     },
     "metadata": {},
     "output_type": "display_data"
    }
   ],
   "source": [
    "# We will be using Linear discriminant analysis since it has the highest accuracy\n",
    "# Plot the confusion Matrix\n",
    "\n",
    "X_train, X_test, y_train, y_test = train_test_split(X, y, test_size=0.20, random_state=1, stratify=y)\n",
    "pipeline = make_pipeline(StandardScaler(),RandomForestClassifier(n_estimators=10, max_features=7, max_depth=2, random_state=1))\n",
    "pipeline.fit(X_train, y_train)\n",
    "y_pred = pipeline.predict(X_test)\n",
    "conf_matrix = confusion_matrix(y_true=y_test, y_pred=y_pred)\n",
    "fig, ax = plt.subplots(figsize=(7.5, 7.5))\n",
    "ax.matshow(conf_matrix, cmap=plt.cm.Blues, alpha=0.3)\n",
    "for i in range(conf_matrix.shape[0]):\n",
    "    for j in range(conf_matrix.shape[1]):\n",
    "        ax.text(x=j, y=i,s=conf_matrix[i, j], va='center', ha='center', size='xx-large')\n",
    "\n",
    "plt.xlabel('Predictions')\n",
    "plt.ylabel('Actuals')\n",
    "plt.title('Confusion Matrix')\n",
    "plt.show()"
   ]
  }
 ],
 "metadata": {
  "kernelspec": {
   "display_name": "Python 3",
   "language": "python",
   "name": "python3"
  },
  "language_info": {
   "codemirror_mode": {
    "name": "ipython",
    "version": 3
   },
   "file_extension": ".py",
   "mimetype": "text/x-python",
   "name": "python",
   "nbconvert_exporter": "python",
   "pygments_lexer": "ipython3",
   "version": "3.9.18"
  }
 },
 "nbformat": 4,
 "nbformat_minor": 2
}

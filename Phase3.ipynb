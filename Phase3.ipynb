{
 "cells": [
  {
   "cell_type": "code",
   "execution_count": 218,
   "metadata": {},
   "outputs": [],
   "source": [
    "###\n",
    "# This code file contains an import of all of the libraries we expect to use in the final project at the top. \n",
    "# Unused imports will be removed in the phase 4 submission. \n",
    "# Then the dataset is loaded in as a CSV file downloaded from the same directory.\n",
    "# We summarize the dataset and replace the Class names with 0 and 1 before starting the cleaning process we check for missing values.\n",
    "# This particular dataset had no missing values so the only step of the cleaning process that changes the dataset is removal of outliers.\n",
    "# We include data visualizations before and after removing the outliers based off a z score of 3.\n",
    "###\n",
    "\n",
    "\n",
    "# Load libraries\n",
    "# remove unused imports in final project if code is turned in\n",
    "from pandas import read_csv\n",
    "from sklearn import metrics\n",
    "from sklearn.metrics import precision_score\n",
    "from sklearn.ensemble import RandomForestClassifier\n",
    "from pandas.plotting import scatter_matrix\n",
    "from matplotlib import pyplot as plt\n",
    "import pandas as pd\n",
    "import numpy as np\n",
    "from sklearn.metrics import recall_score\n",
    "from sklearn.model_selection import train_test_split\n",
    "from sklearn.model_selection import cross_val_score\n",
    "from sklearn.model_selection import StratifiedKFold\n",
    "from sklearn.metrics import classification_report\n",
    "from sklearn.metrics import confusion_matrix\n",
    "from sklearn.metrics import accuracy_score\n",
    "from sklearn.linear_model import LogisticRegression\n",
    "from sklearn.linear_model import LinearRegression\n",
    "from sklearn.tree import DecisionTreeClassifier\n",
    "from sklearn.neighbors import KNeighborsClassifier\n",
    "from sklearn.discriminant_analysis import LinearDiscriminantAnalysis\n",
    "from sklearn.naive_bayes import GaussianNB\n",
    "from sklearn.svm import SVC\n",
    "import sklearn as sk\n",
    "from sklearn.decomposition import PCA\n",
    "from sklearn.pipeline import Pipeline\n",
    "from sklearn.preprocessing import PolynomialFeatures\n",
    "from scipy import stats\n",
    "\n",
    "import sklearn.metrics as met\n",
    "from sklearn.discriminant_analysis import StandardScaler\n",
    "from sklearn.pipeline import make_pipeline"
   ]
  },
  {
   "cell_type": "code",
   "execution_count": 219,
   "metadata": {},
   "outputs": [
    {
     "name": "stdout",
     "output_type": "stream",
     "text": [
      "                area       major       minor         ecc         convex  \\\n",
      "count     900.000000  900.000000  900.000000  900.000000     900.000000   \n",
      "mean    87804.127778  430.929950  254.488133    0.781542   91186.090000   \n",
      "std     39002.111390  116.035121   49.988902    0.090318   40769.290132   \n",
      "min     25387.000000  225.629541  143.710872    0.348730   26139.000000   \n",
      "25%     59348.000000  345.442898  219.111126    0.741766   61513.250000   \n",
      "50%     78902.000000  407.803951  247.848409    0.798846   81651.000000   \n",
      "75%    105028.250000  494.187014  279.888575    0.842571  108375.750000   \n",
      "max    235047.000000  997.291941  492.275279    0.962124  278217.000000   \n",
      "\n",
      "           extent    perimeter       class  \n",
      "count  900.000000   900.000000  900.000000  \n",
      "mean     0.699508  1165.906636    0.500000  \n",
      "std      0.053468   273.764315    0.500278  \n",
      "min      0.379856   619.074000    0.000000  \n",
      "25%      0.670869   966.410750    0.000000  \n",
      "50%      0.707367  1119.509000    0.500000  \n",
      "75%      0.734991  1308.389750    1.000000  \n",
      "max      0.835455  2697.753000    1.000000  \n"
     ]
    }
   ],
   "source": [
    "# ----BEFORE CLEANING----\n",
    "names = ['area', 'major', 'minor', 'ecc', 'convex', 'extent', 'perimeter', 'class']\n",
    "dataset = read_csv('Raisin_Dataset_CSV.csv', header=0, names=names)\n",
    "# summarize the dataset\n",
    "print(dataset.describe())"
   ]
  },
  {
   "cell_type": "code",
   "execution_count": 220,
   "metadata": {},
   "outputs": [
    {
     "name": "stdout",
     "output_type": "stream",
     "text": [
      "       area       major       minor       ecc  convex    extent  perimeter  \\\n",
      "776  165940  624.844959  340.695631  0.838275  170781  0.779464   1641.140   \n",
      "88    35237  267.553779  173.525103  0.761162   37418  0.706832    750.909   \n",
      "584  101103  484.165901  269.145887  0.831252  105500  0.670000   1307.683   \n",
      "153   78991  362.640870  279.090840  0.638518   80355  0.708897   1071.385   \n",
      "145   69317  393.398997  228.722883  0.813617   72170  0.661674   1066.388   \n",
      "416   33615  254.472230  171.001050  0.740566   35376  0.788049    719.935   \n",
      "540  168620  730.760960  295.500462  0.914594  172003  0.796730   1725.003   \n",
      "167   41283  268.125361  199.635401  0.667556   42505  0.732384    798.515   \n",
      "380   83071  400.465688  265.928797  0.747689   84531  0.718458   1112.784   \n",
      "253   39439  246.763611  212.635393  0.507424   42795  0.646827    793.005   \n",
      "122   51180  288.631065  226.630491  0.619254   52396  0.737443    855.997   \n",
      "620   78984  427.494276  236.882575  0.832438   82328  0.698417   1169.476   \n",
      "714   85449  471.124664  238.328679  0.862609   89794  0.584770   1246.200   \n",
      "220   45723  291.197286  203.020221  0.716885   48658  0.648829    875.764   \n",
      "83    98935  387.516938  326.898724  0.537015  100747  0.740421   1176.600   \n",
      "614   62451  337.289987  237.705386  0.709455   64499  0.696275    963.009   \n",
      "894  115272  511.472036  291.591349  0.821574  119773  0.624760   1392.653   \n",
      "113   50545  286.871332  227.159717  0.610713   51771  0.835455    847.664   \n",
      "542  140897  588.070918  308.025787  0.851847  146231  0.733999   1536.473   \n",
      "348   87149  444.610836  253.206591  0.821990   91704  0.716221   1189.483   \n",
      "\n",
      "     class  \n",
      "776      1  \n",
      "88       0  \n",
      "584      1  \n",
      "153      0  \n",
      "145      0  \n",
      "416      0  \n",
      "540      1  \n",
      "167      0  \n",
      "380      0  \n",
      "253      0  \n",
      "122      0  \n",
      "620      1  \n",
      "714      1  \n",
      "220      0  \n",
      "83       0  \n",
      "614      1  \n",
      "894      1  \n",
      "113      0  \n",
      "542      1  \n",
      "348      0  \n"
     ]
    }
   ],
   "source": [
    "# replace class names with 0 or 1 values for classification\n",
    "dataset = dataset.replace('Kecimen', 0)\n",
    "dataset = dataset.replace('Besni', 1)\n",
    "print(dataset.sample(20))"
   ]
  },
  {
   "cell_type": "code",
   "execution_count": 221,
   "metadata": {},
   "outputs": [
    {
     "name": "stdout",
     "output_type": "stream",
     "text": [
      "area         0\n",
      "major        0\n",
      "minor        0\n",
      "ecc          0\n",
      "convex       0\n",
      "extent       0\n",
      "perimeter    0\n",
      "class        0\n",
      "dtype: int64\n"
     ]
    }
   ],
   "source": [
    "# count the missing values\n",
    "print(dataset.isnull().sum())"
   ]
  },
  {
   "cell_type": "code",
   "execution_count": 222,
   "metadata": {},
   "outputs": [
    {
     "name": "stdout",
     "output_type": "stream",
     "text": [
      "area         0\n",
      "major        0\n",
      "minor        0\n",
      "ecc          0\n",
      "convex       0\n",
      "extent       0\n",
      "perimeter    0\n",
      "class        0\n",
      "dtype: int64\n"
     ]
    }
   ],
   "source": [
    "# locate the column with the 99999 values\n",
    "num_missing = (dataset == 99999).sum()\n",
    "print(num_missing)\n",
    "# find and print the indices\n",
    "for col in dataset:\n",
    "    if num_missing[col] != 0:\n",
    "        indices = dataset[dataset[col] == 99999].index\n",
    "        print(col + \":\" + str(list(indices)))"
   ]
  },
  {
   "cell_type": "code",
   "execution_count": 223,
   "metadata": {},
   "outputs": [
    {
     "name": "stdout",
     "output_type": "stream",
     "text": [
      "area           0\n",
      "major          0\n",
      "minor          0\n",
      "ecc            0\n",
      "convex         0\n",
      "extent         0\n",
      "perimeter      0\n",
      "class        450\n",
      "dtype: int64\n",
      "class:[0, 1, 2, 3, 4, 5, 6, 7, 8, 9, 10, 11, 12, 13, 14, 15, 16, 17, 18, 19, 20, 21, 22, 23, 24, 25, 26, 27, 28, 29, 30, 31, 32, 33, 34, 35, 36, 37, 38, 39, 40, 41, 42, 43, 44, 45, 46, 47, 48, 49, 50, 51, 52, 53, 54, 55, 56, 57, 58, 59, 60, 61, 62, 63, 64, 65, 66, 67, 68, 69, 70, 71, 72, 73, 74, 75, 76, 77, 78, 79, 80, 81, 82, 83, 84, 85, 86, 87, 88, 89, 90, 91, 92, 93, 94, 95, 96, 97, 98, 99, 100, 101, 102, 103, 104, 105, 106, 107, 108, 109, 110, 111, 112, 113, 114, 115, 116, 117, 118, 119, 120, 121, 122, 123, 124, 125, 126, 127, 128, 129, 130, 131, 132, 133, 134, 135, 136, 137, 138, 139, 140, 141, 142, 143, 144, 145, 146, 147, 148, 149, 150, 151, 152, 153, 154, 155, 156, 157, 158, 159, 160, 161, 162, 163, 164, 165, 166, 167, 168, 169, 170, 171, 172, 173, 174, 175, 176, 177, 178, 179, 180, 181, 182, 183, 184, 185, 186, 187, 188, 189, 190, 191, 192, 193, 194, 195, 196, 197, 198, 199, 200, 201, 202, 203, 204, 205, 206, 207, 208, 209, 210, 211, 212, 213, 214, 215, 216, 217, 218, 219, 220, 221, 222, 223, 224, 225, 226, 227, 228, 229, 230, 231, 232, 233, 234, 235, 236, 237, 238, 239, 240, 241, 242, 243, 244, 245, 246, 247, 248, 249, 250, 251, 252, 253, 254, 255, 256, 257, 258, 259, 260, 261, 262, 263, 264, 265, 266, 267, 268, 269, 270, 271, 272, 273, 274, 275, 276, 277, 278, 279, 280, 281, 282, 283, 284, 285, 286, 287, 288, 289, 290, 291, 292, 293, 294, 295, 296, 297, 298, 299, 300, 301, 302, 303, 304, 305, 306, 307, 308, 309, 310, 311, 312, 313, 314, 315, 316, 317, 318, 319, 320, 321, 322, 323, 324, 325, 326, 327, 328, 329, 330, 331, 332, 333, 334, 335, 336, 337, 338, 339, 340, 341, 342, 343, 344, 345, 346, 347, 348, 349, 350, 351, 352, 353, 354, 355, 356, 357, 358, 359, 360, 361, 362, 363, 364, 365, 366, 367, 368, 369, 370, 371, 372, 373, 374, 375, 376, 377, 378, 379, 380, 381, 382, 383, 384, 385, 386, 387, 388, 389, 390, 391, 392, 393, 394, 395, 396, 397, 398, 399, 400, 401, 402, 403, 404, 405, 406, 407, 408, 409, 410, 411, 412, 413, 414, 415, 416, 417, 418, 419, 420, 421, 422, 423, 424, 425, 426, 427, 428, 429, 430, 431, 432, 433, 434, 435, 436, 437, 438, 439, 440, 441, 442, 443, 444, 445, 446, 447, 448, 449]\n"
     ]
    }
   ],
   "source": [
    "# locate the column with the 0 values\n",
    "num_missing = (dataset == 0).sum()\n",
    "print(num_missing)\n",
    "# find and print the indices\n",
    "# we can ignore the 0 values in class because 0 is a valid value\n",
    "for col in dataset:\n",
    "    if num_missing[col] != 0:\n",
    "        indices = dataset[dataset[col] == 0].index\n",
    "        print(col + \":\" + str(list(indices)))"
   ]
  },
  {
   "cell_type": "code",
   "execution_count": 224,
   "metadata": {},
   "outputs": [
    {
     "name": "stdout",
     "output_type": "stream",
     "text": [
      "[487, 507, 552, 580, 581, 668, 708, 804, 812, 866, 880, 85, 487, 506, 694, 836, 490, 552, 581, 616, 769, 804, 880, 13, 23, 34, 43, 106, 156, 192, 197, 235, 251, 253, 316, 356, 483, 880, 85, 487, 506, 694, 708, 804, 812, 836, 866, 880, 85, 290, 459, 487, 498, 506, 536, 579, 682, 694, 802, 829, 836, 85, 290, 487, 506, 694, 836]\n",
      "                area       major       minor         ecc         convex  \\\n",
      "count     860.000000  860.000000  860.000000  860.000000     860.000000   \n",
      "mean    85689.111628  425.399183  251.839739    0.785030   88762.722093   \n",
      "std     35714.789417  105.363100   46.579123    0.079252   36697.834521   \n",
      "min     25387.000000  225.629541  143.710872    0.517135   26139.000000   \n",
      "25%     59230.500000  345.829099  218.450742    0.744472   61489.250000   \n",
      "50%     78122.500000  405.796609  246.643156    0.798846   80835.500000   \n",
      "75%    103121.000000  486.582391  277.440665    0.840973  107340.500000   \n",
      "max    204226.000000  769.425149  403.719328    0.928094  209580.000000   \n",
      "\n",
      "           extent    perimeter       class  \n",
      "count  860.000000   860.000000  860.000000  \n",
      "mean     0.701263  1150.554856    0.494186  \n",
      "std      0.046813   245.921977    0.500257  \n",
      "min      0.547433   619.074000    0.000000  \n",
      "25%      0.671999   966.013750    0.000000  \n",
      "50%      0.706631  1113.375500    0.000000  \n",
      "75%      0.733665  1295.296750    1.000000  \n",
      "max      0.835455  1893.414000    1.000000  \n"
     ]
    }
   ],
   "source": [
    "# ----Clean the Data----\n",
    "threshold_z = 3\n",
    "outlier_indices = []\n",
    "for col in dataset:\n",
    "    if col != \"class\":\n",
    "        z = np.abs(stats.zscore(dataset[col]))\n",
    "        outlier_indices_col = np.where(z > threshold_z)[0]\n",
    "        outlier_indices.extend(outlier_indices_col)\n",
    "print(outlier_indices)\n",
    "dataset = dataset.drop(outlier_indices)\n",
    "print(dataset.describe())"
   ]
  },
  {
   "cell_type": "code",
   "execution_count": 225,
   "metadata": {},
   "outputs": [
    {
     "name": "stdout",
     "output_type": "stream",
     "text": [
      "             area       major       minor         ecc      convex      extent  \\\n",
      "count  860.000000  860.000000  860.000000  860.000000  860.000000  860.000000   \n",
      "mean     0.337187    0.367362    0.415867    0.651878    0.341383    0.534093   \n",
      "std      0.199704    0.193755    0.179145    0.192848    0.200053    0.162531   \n",
      "min      0.000000    0.000000    0.000000    0.000000    0.000000    0.000000   \n",
      "25%      0.189240    0.221038    0.287452    0.553187    0.192706    0.432490   \n",
      "50%      0.294877    0.331314    0.395881    0.685497    0.298169    0.552730   \n",
      "75%      0.434659    0.479873    0.514329    0.788006    0.442657    0.646589   \n",
      "max      1.000000    1.000000    1.000000    1.000000    1.000000    1.000000   \n",
      "\n",
      "        perimeter       class  \n",
      "count  860.000000  860.000000  \n",
      "mean     0.417064    0.494186  \n",
      "std      0.192980    0.500257  \n",
      "min      0.000000    0.000000  \n",
      "25%      0.272251    0.000000  \n",
      "50%      0.387888    0.000000  \n",
      "75%      0.530645    1.000000  \n",
      "max      1.000000    1.000000  \n"
     ]
    }
   ],
   "source": [
    "# ---- PHASE 3 ----\n",
    "\n",
    "# Normalize the data using min max normalization\n",
    "dataset = dataset\n",
    "for col in dataset:\n",
    "    if col != 'class':\n",
    "        dataset[[col]] = (dataset[[col]] - dataset [[col]].min()) / (dataset[[col]].max() - dataset[[col]].min())\n",
    "print(dataset.describe())"
   ]
  },
  {
   "cell_type": "code",
   "execution_count": 226,
   "metadata": {},
   "outputs": [
    {
     "data": {
      "image/png": "[encoded data removed]",
      "text/plain": [
       "<Figure size 640x480 with 2 Axes>"
      ]
     },
     "metadata": {},
     "output_type": "display_data"
    }
   ],
   "source": [
    "# Analyze the Correlation Matrix post normalization\n",
    "correlations = dataset.corr()\n",
    "fig = plt.figure()\n",
    "ax = fig.add_subplot(111)\n",
    "cax = ax.matshow(correlations, vmin=-1, vmax=1)\n",
    "fig.colorbar(cax)\n",
    "ticks = np.arange(0,8,1)\n",
    "ax.set_xticks(ticks)\n",
    "ax.set_yticks(ticks)\n",
    "ax.set_xticklabels(names)\n",
    "ax.set_yticklabels(names)\n",
    "plt.show()"
   ]
  },
  {
   "cell_type": "code",
   "execution_count": 227,
   "metadata": {},
   "outputs": [
    {
     "name": "stdout",
     "output_type": "stream",
     "text": [
      "             area       major       minor         ecc      convex   perimeter  \\\n",
      "count  860.000000  860.000000  860.000000  860.000000  860.000000  860.000000   \n",
      "mean     0.337187    0.367362    0.415867    0.651878    0.341383    0.417064   \n",
      "std      0.199704    0.193755    0.179145    0.192848    0.200053    0.192980   \n",
      "min      0.000000    0.000000    0.000000    0.000000    0.000000    0.000000   \n",
      "25%      0.189240    0.221038    0.287452    0.553187    0.192706    0.272251   \n",
      "50%      0.294877    0.331314    0.395881    0.685497    0.298169    0.387888   \n",
      "75%      0.434659    0.479873    0.514329    0.788006    0.442657    0.530645   \n",
      "max      1.000000    1.000000    1.000000    1.000000    1.000000    1.000000   \n",
      "\n",
      "            class  \n",
      "count  860.000000  \n",
      "mean     0.494186  \n",
      "std      0.500257  \n",
      "min      0.000000  \n",
      "25%      0.000000  \n",
      "50%      0.000000  \n",
      "75%      1.000000  \n",
      "max      1.000000  \n"
     ]
    }
   ],
   "source": [
    "# Drop Features with low correlation\n",
    "# The lowest feature will be dropped.\n",
    "# We chose to drop extent (which had a correlation of -0.145).\n",
    "# We chose not to do PCA because we have a limited number of features and samples.\n",
    "dataset = dataset.drop(dataset.columns[[5]], axis=1)\n",
    "print(dataset.describe())\n"
   ]
  },
  {
   "cell_type": "code",
   "execution_count": 228,
   "metadata": {},
   "outputs": [
    {
     "name": "stdout",
     "output_type": "stream",
     "text": [
      "LR: 0.853240 (0.041603)\n",
      "LDA: 0.875021 (0.034945)\n",
      "KNN: 0.843052 (0.028703)\n",
      "CART: 0.792136 (0.036225)\n",
      "NB: 0.835784 (0.027367)\n",
      "SVM: 0.850320 (0.038807)\n",
      "RFC: 0.844544 (0.037577)\n"
     ]
    }
   ],
   "source": [
    "# Split the dataset\n",
    "array = dataset.values\n",
    "X = array[:,0:5]\n",
    "y = array[:,6]\n",
    "X_train, X_validation, Y_train, Y_validation = train_test_split(X, y, test_size=0.20, random_state=1)\n",
    "# Use and evaluate the ML models\n",
    "models = []\n",
    "models.append(('LR', LogisticRegression(solver='liblinear', multi_class='ovr')))\n",
    "models.append(('LDA', LinearDiscriminantAnalysis()))\n",
    "models.append(('KNN', KNeighborsClassifier()))\n",
    "models.append(('CART', DecisionTreeClassifier()))\n",
    "models.append(('NB', GaussianNB()))\n",
    "models.append(('SVM', SVC(gamma='auto')))\n",
    "models.append(('RFC', RandomForestClassifier(n_estimators=10, max_features=7, max_depth=2, random_state=1)))\n",
    "results = []\n",
    "names = []\n",
    "for name, model in models:\n",
    " kfold = StratifiedKFold(n_splits=10, random_state=1, shuffle=True)\n",
    " cv_results = cross_val_score(model, X_train, Y_train, cv=kfold, scoring='accuracy')\n",
    " results.append(cv_results)\n",
    " names.append(name)\n",
    " print('%s: %f (%f)' % (name, cv_results.mean(), cv_results.std()))\n",
    "\n"
   ]
  },
  {
   "cell_type": "code",
   "execution_count": 229,
   "metadata": {},
   "outputs": [
    {
     "data": {
      "image/png": "[encoded data removed]",
      "text/plain": [
       "<Figure size 750x750 with 1 Axes>"
      ]
     },
     "metadata": {},
     "output_type": "display_data"
    }
   ],
   "source": [
    "# We will be using Linear discriminant analysis since it has the highest accuracy\n",
    "# Plot the confusion Matrix\n",
    "\n",
    "X_train, X_test, y_train, y_test = train_test_split(X, y, test_size=0.20, random_state=1, stratify=y)\n",
    "pipeline = make_pipeline(StandardScaler(),RandomForestClassifier(n_estimators=10, max_features=7, max_depth=2, random_state=1))\n",
    "pipeline.fit(X_train, y_train)\n",
    "y_pred = pipeline.predict(X_test)\n",
    "conf_matrix = confusion_matrix(y_true=y_test, y_pred=y_pred)\n",
    "fig, ax = plt.subplots(figsize=(7.5, 7.5))\n",
    "ax.matshow(conf_matrix, cmap=plt.cm.Blues, alpha=0.3)\n",
    "for i in range(conf_matrix.shape[0]):\n",
    "    for j in range(conf_matrix.shape[1]):\n",
    "        ax.text(x=j, y=i,s=conf_matrix[i, j], va='center', ha='center', size='xx-large')\n",
    "\n",
    "plt.xlabel('Predictions')\n",
    "plt.ylabel('Actuals')\n",
    "plt.title('Confusion Matrix')\n",
    "plt.show()\n",
    "tn, fp, fn, tp = confusion_matrix(y_test, y_pred).ravel()"
   ]
  },
  {
   "cell_type": "code",
   "execution_count": 230,
   "metadata": {},
   "outputs": [
    {
     "name": "stdout",
     "output_type": "stream",
     "text": [
      "Precision: 0.913043\n"
     ]
    }
   ],
   "source": [
    "# calculate the precision\n",
    "\n",
    "precision = precision_score(y_test, y_pred)\n",
    "print('Precision: %f' % precision)"
   ]
  },
  {
   "cell_type": "code",
   "execution_count": 231,
   "metadata": {},
   "outputs": [
    {
     "name": "stdout",
     "output_type": "stream",
     "text": [
      "Recall: 0.741176\n"
     ]
    }
   ],
   "source": [
    "# calculate the Recall\n",
    "\n",
    "recall = recall_score(y_test, y_pred)\n",
    "print('Recall: %f' % recall)"
   ]
  },
  {
   "cell_type": "code",
   "execution_count": 232,
   "metadata": {},
   "outputs": [
    {
     "name": "stdout",
     "output_type": "stream",
     "text": [
      "0.9310344827586207\n"
     ]
    }
   ],
   "source": [
    "# Calculate the specificity\n",
    "specificity = tn / (tn+fp)\n",
    "print(specificity)"
   ]
  },
  {
   "cell_type": "code",
   "execution_count": 233,
   "metadata": {},
   "outputs": [
    {
     "data": {
      "image/png": "[encoded data removed]",
      "text/plain": [
       "<Figure size 640x480 with 1 Axes>"
      ]
     },
     "metadata": {},
     "output_type": "display_data"
    }
   ],
   "source": [
    "# Calculate the ROC curves\n",
    "\n",
    "fpr, tpr, threshold = metrics.roc_curve(y_test, y_pred)\n",
    "roc_auc = metrics.auc(fpr, tpr)\n",
    "plt.title('ROC Curve')\n",
    "plt.plot(fpr, tpr, 'b', label = 'AUC = %0.2f' % roc_auc)\n",
    "plt.legend(loc = 'lower right')\n",
    "plt.plot([0, 1], [0, 1],'r--')\n",
    "plt.xlim([0, 1])\n",
    "plt.ylim([0, 1])\n",
    "plt.ylabel('True Positive Rate')\n",
    "plt.xlabel('False Positive Rate')\n",
    "plt.show()"
   ]
  }
 ],
 "metadata": {
  "kernelspec": {
   "display_name": "Python 3",
   "language": "python",
   "name": "python3"
  },
  "language_info": {
   "codemirror_mode": {
    "name": "ipython",
    "version": 3
   },
   "file_extension": ".py",
   "mimetype": "text/x-python",
   "name": "python",
   "nbconvert_exporter": "python",
   "pygments_lexer": "ipython3",
   "version": "3.9.18"
  }
 },
 "nbformat": 4,
 "nbformat_minor": 2
}
